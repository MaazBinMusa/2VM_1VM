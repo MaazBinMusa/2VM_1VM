{
 "cells": [
  {
   "cell_type": "code",
   "execution_count": 108,
   "id": "legitimate-professional",
   "metadata": {},
   "outputs": [],
   "source": [
    "import os\n",
    "import json\n",
    "import csv\n",
    "from matplotlib import pyplot as plt\n",
    "import numpy as np\n",
    "import pandas as pd\n",
    "import seaborn as sns"
   ]
  },
  {
   "cell_type": "code",
   "execution_count": 109,
   "id": "peripheral-victorian",
   "metadata": {
    "scrolled": true
   },
   "outputs": [
    {
     "data": {
      "text/html": [
       "<div>\n",
       "<style scoped>\n",
       "    .dataframe tbody tr th:only-of-type {\n",
       "        vertical-align: middle;\n",
       "    }\n",
       "\n",
       "    .dataframe tbody tr th {\n",
       "        vertical-align: top;\n",
       "    }\n",
       "\n",
       "    .dataframe thead th {\n",
       "        text-align: right;\n",
       "    }\n",
       "</style>\n",
       "<table border=\"1\" class=\"dataframe\">\n",
       "  <thead>\n",
       "    <tr style=\"text-align: right;\">\n",
       "      <th></th>\n",
       "      <th>persona</th>\n",
       "      <th>sites</th>\n",
       "      <th>unique ads</th>\n",
       "    </tr>\n",
       "  </thead>\n",
       "  <tbody>\n",
       "    <tr>\n",
       "      <td>0</td>\n",
       "      <td>Sports</td>\n",
       "      <td>5</td>\n",
       "      <td>95</td>\n",
       "    </tr>\n",
       "    <tr>\n",
       "      <td>1</td>\n",
       "      <td>Sports</td>\n",
       "      <td>10</td>\n",
       "      <td>159</td>\n",
       "    </tr>\n",
       "    <tr>\n",
       "      <td>2</td>\n",
       "      <td>Sports</td>\n",
       "      <td>15</td>\n",
       "      <td>178</td>\n",
       "    </tr>\n",
       "    <tr>\n",
       "      <td>3</td>\n",
       "      <td>Sports</td>\n",
       "      <td>20</td>\n",
       "      <td>203</td>\n",
       "    </tr>\n",
       "    <tr>\n",
       "      <td>4</td>\n",
       "      <td>Sports</td>\n",
       "      <td>25</td>\n",
       "      <td>173</td>\n",
       "    </tr>\n",
       "    <tr>\n",
       "      <td>5</td>\n",
       "      <td>Sports</td>\n",
       "      <td>50</td>\n",
       "      <td>214</td>\n",
       "    </tr>\n",
       "  </tbody>\n",
       "</table>\n",
       "</div>"
      ],
      "text/plain": [
       "  persona  sites  unique ads\n",
       "0  Sports      5          95\n",
       "1  Sports     10         159\n",
       "2  Sports     15         178\n",
       "3  Sports     20         203\n",
       "4  Sports     25         173\n",
       "5  Sports     50         214"
      ]
     },
     "execution_count": 109,
     "metadata": {},
     "output_type": "execute_result"
    }
   ],
   "source": [
    "data = []\n",
    "count = {}\n",
    "x = []\n",
    "\n",
    "# x = [ [persona name, site num, val] , [persona name, site num, val] , [persona name, site num, val] ]\n",
    "\n",
    "with open('run5_2021-01-27_final.json','r') as file:\n",
    "    data = json.load(file)\n",
    "\n",
    "for item in data:\n",
    "\n",
    "    url = item['img_url']\n",
    "    hash_ = item['img_hash']\n",
    "\n",
    "    cat = url.split(\"_\")[3]\n",
    "    num = int(url.split(\"_\")[2])\n",
    "\n",
    "    if(num not in count):\n",
    "        count[num] = {}\n",
    "\n",
    "    if(cat not in count[num]):\n",
    "        count[num][cat] = set()\n",
    "\n",
    "    count[num][cat].add(hash_)\n",
    "\n",
    "UniqueAds = []\n",
    "PersonaSize = [5,10,15,20,25,50]\n",
    "PersonaCaty = [\"Sports\",\"Games\",\"Health\",\"Adult\",\"Recreation\",\"News\"]\n",
    "\n",
    "for personacat in PersonaCaty:\n",
    "    for personasize in PersonaSize:\n",
    "        x.append([personacat,personasize,len(set(count[personasize][personacat]))])\n",
    "\n",
    "\n",
    "df = pd.DataFrame(x,columns=['persona','sites','unique ads'])\n",
    "df[df['persona'] == 'Sports']"
   ]
  },
  {
   "cell_type": "code",
   "execution_count": 26,
   "id": "mechanical-details",
   "metadata": {},
   "outputs": [
    {
     "name": "stderr",
     "output_type": "stream",
     "text": [
      "/usr/local/lib/python3.6/dist-packages/ipykernel_launcher.py:2: SettingWithCopyWarning: \n",
      "A value is trying to be set on a copy of a slice from a DataFrame.\n",
      "Try using .loc[row_indexer,col_indexer] = value instead\n",
      "\n",
      "See the caveats in the documentation: http://pandas.pydata.org/pandas-docs/stable/user_guide/indexing.html#returning-a-view-versus-a-copy\n",
      "  \n"
     ]
    },
    {
     "data": {
      "text/html": [
       "<div>\n",
       "<style scoped>\n",
       "    .dataframe tbody tr th:only-of-type {\n",
       "        vertical-align: middle;\n",
       "    }\n",
       "\n",
       "    .dataframe tbody tr th {\n",
       "        vertical-align: top;\n",
       "    }\n",
       "\n",
       "    .dataframe thead th {\n",
       "        text-align: right;\n",
       "    }\n",
       "</style>\n",
       "<table border=\"1\" class=\"dataframe\">\n",
       "  <thead>\n",
       "    <tr style=\"text-align: right;\">\n",
       "      <th></th>\n",
       "      <th>sites</th>\n",
       "      <th>persona</th>\n",
       "      <th>unique ads</th>\n",
       "      <th>Percentage Increase</th>\n",
       "    </tr>\n",
       "  </thead>\n",
       "  <tbody>\n",
       "    <tr>\n",
       "      <td>0</td>\n",
       "      <td>Sports</td>\n",
       "      <td>5</td>\n",
       "      <td>95</td>\n",
       "      <td>1</td>\n",
       "    </tr>\n",
       "    <tr>\n",
       "      <td>1</td>\n",
       "      <td>Sports</td>\n",
       "      <td>10</td>\n",
       "      <td>159</td>\n",
       "      <td>1</td>\n",
       "    </tr>\n",
       "    <tr>\n",
       "      <td>2</td>\n",
       "      <td>Sports</td>\n",
       "      <td>15</td>\n",
       "      <td>178</td>\n",
       "      <td>1</td>\n",
       "    </tr>\n",
       "    <tr>\n",
       "      <td>3</td>\n",
       "      <td>Sports</td>\n",
       "      <td>20</td>\n",
       "      <td>203</td>\n",
       "      <td>1</td>\n",
       "    </tr>\n",
       "    <tr>\n",
       "      <td>4</td>\n",
       "      <td>Sports</td>\n",
       "      <td>25</td>\n",
       "      <td>173</td>\n",
       "      <td>1</td>\n",
       "    </tr>\n",
       "    <tr>\n",
       "      <td>5</td>\n",
       "      <td>Sports</td>\n",
       "      <td>50</td>\n",
       "      <td>214</td>\n",
       "      <td>1</td>\n",
       "    </tr>\n",
       "  </tbody>\n",
       "</table>\n",
       "</div>"
      ],
      "text/plain": [
       "    sites  persona  unique ads  Percentage Increase\n",
       "0  Sports        5          95                    1\n",
       "1  Sports       10         159                    1\n",
       "2  Sports       15         178                    1\n",
       "3  Sports       20         203                    1\n",
       "4  Sports       25         173                    1\n",
       "5  Sports       50         214                    1"
      ]
     },
     "execution_count": 26,
     "metadata": {},
     "output_type": "execute_result"
    }
   ],
   "source": [
    "df2 = df.loc[df['sites'] == \"Sports\"]\n",
    "df2['Percentage Increase'] = [1]*len(df2)"
   ]
  },
  {
   "cell_type": "code",
   "execution_count": 56,
   "id": "hourly-criminal",
   "metadata": {
    "collapsed": true
   },
   "outputs": [
    {
     "name": "stderr",
     "output_type": "stream",
     "text": [
      "/usr/local/lib/python3.6/dist-packages/ipykernel_launcher.py:5: SettingWithCopyWarning: \n",
      "A value is trying to be set on a copy of a slice from a DataFrame.\n",
      "Try using .loc[row_indexer,col_indexer] = value instead\n",
      "\n",
      "See the caveats in the documentation: http://pandas.pydata.org/pandas-docs/stable/user_guide/indexing.html#returning-a-view-versus-a-copy\n",
      "  \"\"\"\n",
      "/usr/local/lib/python3.6/dist-packages/ipykernel_launcher.py:13: FutureWarning: set_value is deprecated and will be removed in a future release. Please use .at[] or .iat[] accessors instead\n",
      "  del sys.path[0]\n",
      "/usr/local/lib/python3.6/dist-packages/ipykernel_launcher.py:21: FutureWarning: set_value is deprecated and will be removed in a future release. Please use .at[] or .iat[] accessors instead\n",
      "/usr/local/lib/python3.6/dist-packages/ipykernel_launcher.py:23: FutureWarning: set_value is deprecated and will be removed in a future release. Please use .at[] or .iat[] accessors instead\n"
     ]
    },
    {
     "data": {
      "image/png": "[encoded data removed]",
      "text/plain": [
       "<Figure size 432x288 with 1 Axes>"
      ]
     },
     "metadata": {
      "needs_background": "light"
     },
     "output_type": "display_data"
    },
    {
     "data": {
      "image/png": "[encoded data removed]",
      "text/plain": [
       "<Figure size 432x288 with 1 Axes>"
      ]
     },
     "metadata": {
      "needs_background": "light"
     },
     "output_type": "display_data"
    },
    {
     "data": {
      "image/png": "[encoded data removed]",
      "text/plain": [
       "<Figure size 432x288 with 1 Axes>"
      ]
     },
     "metadata": {
      "needs_background": "light"
     },
     "output_type": "display_data"
    },
    {
     "data": {
      "image/png": "[encoded data removed]",
      "text/plain": [
       "<Figure size 432x288 with 1 Axes>"
      ]
     },
     "metadata": {
      "needs_background": "light"
     },
     "output_type": "display_data"
    },
    {
     "data": {
      "image/png": "[encoded data removed]",
      "text/plain": [
       "<Figure size 432x288 with 1 Axes>"
      ]
     },
     "metadata": {
      "needs_background": "light"
     },
     "output_type": "display_data"
    }
   ],
   "source": [
    "personas = [\"Adult\",\"Sports\",\"Health\",\"Games\",\"Recreation\"]\n",
    "for p in personas:\n",
    "\n",
    "    df2 = df.loc[df['sites'] == p]\n",
    "    df2['Percentage Increase'] = [1]*len(df2)\n",
    "    \n",
    "    df2 = df2.reset_index()\n",
    "    #print(df2)\n",
    "    \n",
    "    for index, row in df2.iterrows():\n",
    "\n",
    "        if(index == 0):\n",
    "            df2.set_value(index,'Percentage Increase',0)\n",
    "            continue\n",
    "\n",
    "        prev_ads = df2.loc[index - 1]['unique ads']\n",
    "        curr_ads = row['unique ads']\n",
    "        increase = (curr_ads - prev_ads)\n",
    "\n",
    "        if(increase < 0):\n",
    "            df2.set_value(index,'Percentage Increase',df2.loc[index - 1]['Percentage Increase'])\n",
    "        else:\n",
    "            df2.set_value(index,'Percentage Increase',(increase / prev_ads ) * 100)\n",
    "\n",
    "    #df2.filter(items=['Percentage Increase']).plot.line()\n",
    "    \n",
    "    df2.plot.scatter(x='persona',y='unique ads')"
   ]
  },
  {
   "cell_type": "code",
   "execution_count": 118,
   "id": "surprised-state",
   "metadata": {
    "scrolled": true
   },
   "outputs": [
    {
     "name": "stdout",
     "output_type": "stream",
     "text": [
      "77 77 0\n",
      "71 113 36\n",
      "42 143 30\n",
      "115 224 81\n",
      "153 311 87\n",
      "171 399 88\n",
      "---------------------\n",
      "95 95 0\n",
      "159 225 130\n",
      "178 307 82\n",
      "203 409 102\n",
      "173 473 64\n",
      "214 581 108\n",
      "---------------------\n",
      "70 70 0\n",
      "112 149 79\n",
      "207 296 147\n",
      "194 398 102\n",
      "219 501 103\n",
      "232 636 135\n",
      "---------------------\n",
      "62 62 0\n",
      "92 126 64\n",
      "136 199 73\n",
      "134 266 67\n",
      "163 346 80\n",
      "184 428 82\n",
      "---------------------\n",
      "67 67 0\n",
      "93 133 66\n",
      "128 196 63\n",
      "170 289 93\n",
      "166 386 97\n",
      "177 448 62\n",
      "---------------------\n",
      "136 136 0\n",
      "174 267 131\n",
      "193 387 120\n",
      "217 506 119\n",
      "194 601 95\n",
      "217 713 112\n",
      "---------------------\n"
     ]
    }
   ],
   "source": [
    "personas = [\"Adult\",\"Sports\",\"Health\",\"Games\",\"Recreation\",\"News\"]\n",
    "no_site  = [5,10,15,20,25,50]\n",
    "\n",
    "data = {}\n",
    "for p in personas:\n",
    "    data[p] = {}\n",
    "    for index,s in enumerate(no_site):\n",
    "        \n",
    "        d = count[s][p]\n",
    "        c = count[s][p]\n",
    "        l = 0\n",
    "        if(index != 0):\n",
    "            \n",
    "            prev_c = data[p][no_site[index - 1]][\"combined_hashes\"]\n",
    "            l = len(d) - len(d.intersection(prev_c))\n",
    "            c = d.union(prev_c)\n",
    "        \n",
    "        data[p][s] = {\"new_hashes\": l,\"hashes\":d,\"hashes length\":len(d),\"combined_hashes\":c,\"chashes length\":len(c)}\n",
    "        print(len(d), len(c), l)\n",
    "    print(\"---------------------\")"
   ]
  },
  {
   "cell_type": "markdown",
   "id": "smooth-robinson",
   "metadata": {},
   "source": [
    "# Make Graphs Here With Data"
   ]
  },
  {
   "cell_type": "code",
   "execution_count": null,
   "id": "ahead-edward",
   "metadata": {
    "scrolled": true
   },
   "outputs": [],
   "source": [
    "plt.plot(K, distortions, 'bx-')\n",
    "plt.xlabel('Values of K')\n",
    "plt.ylabel('Distortion')\n",
    "plt.title('The Elbow Method using Distortion')\n",
    "plt.show()\n"
   ]
  },
  {
   "cell_type": "code",
   "execution_count": null,
   "id": "western-dating",
   "metadata": {},
   "outputs": [],
   "source": []
  }
 ],
 "metadata": {
  "kernelspec": {
   "display_name": "Python 3",
   "language": "python",
   "name": "python3"
  },
  "language_info": {
   "codemirror_mode": {
    "name": "ipython",
    "version": 3
   },
   "file_extension": ".py",
   "mimetype": "text/x-python",
   "name": "python",
   "nbconvert_exporter": "python",
   "pygments_lexer": "ipython3",
   "version": "3.6.9"
  }
 },
 "nbformat": 4,
 "nbformat_minor": 5
}
